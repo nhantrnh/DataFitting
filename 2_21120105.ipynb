{
 "cells": [
  {
   "cell_type": "markdown",
   "id": "f83d5ff0-2096-48d9-9497-be18def67c21",
   "metadata": {},
   "source": [
    "# **ĐỒ ÁN THỰC HÀNH CUỐI KỲ**\n",
    "\n",
    "## Môn: **Toán ứng dụng và thống kê**\n",
    "## Lớp: **21_2**\n",
    "## Họ tên: **Trương Thành Nhân** - MSSV **21120105**\n",
    "\n",
    "## **ĐỀ 2** Bài toán data fitting\n",
    "- Sử dụng bài toán data fitting trong **xây dựng mô hình đánh giá lương nhân viên** từ các yếu tố tác động theo dữ liệu được cung cấp.\n",
    "- Sử dụng bài toán data fitting trong việc **xây dựng mô hình đánh giá giá nhà** từ các yếu tố tác động từ dữ liệu được cung cấp."
   ]
  },
  {
   "cell_type": "markdown",
   "id": "96ca19bf-a134-49cd-b944-c2215b7ea366",
   "metadata": {},
   "source": [
    "## **1. THƯ VIỆN VÀ CÁC HÀM HỖ TRỢ**"
   ]
  },
  {
   "cell_type": "markdown",
   "id": "68ce8e9c-0fda-42a3-b51f-b07775defbe1",
   "metadata": {},
   "source": [
    "### **1.1 THƯ VIỆN HỖ TRỢ**"
   ]
  },
  {
   "cell_type": "code",
   "execution_count": 1,
   "id": "ee1bf399-5ccc-4e08-90d1-0196252db039",
   "metadata": {},
   "outputs": [],
   "source": [
    "import pandas as pd\n",
    "import numpy as np\n",
    "import matplotlib.pyplot as plt\n",
    "import math"
   ]
  },
  {
   "cell_type": "markdown",
   "id": "acd32405-1d9a-4efe-8362-d74e1b9f457b",
   "metadata": {},
   "source": [
    "### **1.2 CÁC HÀM HỖ TRỢ**"
   ]
  },
  {
   "cell_type": "markdown",
   "id": "347faa22-cec7-4e39-9662-cacec483cc60",
   "metadata": {},
   "source": [
    "#### 1.2.1 HÀM <code>inverse(Matrix)</code>\n",
    "**Hàm tìm ma trận nghịch đảo của ma trận <code>Matrix</code> ban đầu**"
   ]
  },
  {
   "cell_type": "code",
   "execution_count": 2,
   "id": "74a4db52-ba84-42f9-bdbf-26fedda41348",
   "metadata": {},
   "outputs": [],
   "source": [
    "def inverse(Matrix):\n",
    "    n = len(Matrix)\n",
    "    result = [[0 for i in range(n)] for j in range(n)]\n",
    "    In = [[0 for i in range(n)] for j in range(n)]\n",
    "    for i in range(n):\n",
    "        In[i][i] = 1\n",
    "    B = [Matrix[i] + In[i] for i in range(n)]\n",
    "    for i in range(n):\n",
    "        div = B[i][i]\n",
    "        for j in range(2*n):\n",
    "            B[i][j] /= div\n",
    "        for j in range(n):\n",
    "            if i != j:\n",
    "                sub = B[j][i]\n",
    "                for k in range(2*n):\n",
    "                    B[j][k] -= sub * B[i][k]\n",
    "    for i in range(n):\n",
    "        result[i] = B[i][n:]\n",
    "    return result"
   ]
  },
  {
   "cell_type": "markdown",
   "id": "b627c438-80f4-4676-b8d0-5eadf54178e3",
   "metadata": {},
   "source": [
    "### 1.2.2 HÀM <code>transpose(Matrix)<code>\n",
    "**Hàm tìm ma trận chuyển vị của ma trận <code>Matrix</code> ban đầu**"
   ]
  },
  {
   "cell_type": "code",
   "execution_count": 3,
   "id": "3f701a84-5f54-4aeb-980f-4073ccf8792a",
   "metadata": {},
   "outputs": [],
   "source": [
    "def transpose(Matrix):\n",
    "    if len(Matrix) == 0 and len(Matrix[0]) == 0:\n",
    "        return []\n",
    "    A = []\n",
    "    for i in range(len(Matrix[0])):\n",
    "        A.append([])\n",
    "        for j in range(len(Matrix)):\n",
    "            A[i].append(Matrix[j][i])\n",
    "    return A"
   ]
  },
  {
   "cell_type": "markdown",
   "id": "58e50c6f-c11c-4a77-a539-4103fe1004d5",
   "metadata": {},
   "source": [
    "### 1.2.3 HÀM <code>multiplyMatrix(A, B)<code>\n",
    "**Hàm nhân hai ma trận A và B**"
   ]
  },
  {
   "cell_type": "code",
   "execution_count": 4,
   "id": "6d679d16-fa99-478c-a17e-f216f0c15559",
   "metadata": {},
   "outputs": [],
   "source": [
    "def multiplyMatrix(A, B): \n",
    "    if len(A[0]) != len(B):\n",
    "        return \"Không thể nhân hai ma trận này\"\n",
    "    result = [[0 for i in range(len(B[0]))] for j in range(len(A))]\n",
    "    for i in range(len(A)):\n",
    "        for j in range(len(B[0])):\n",
    "            for k in range(len(B)):\n",
    "                result[i][j] += A[i][k] * B[k][j]\n",
    "    return result"
   ]
  },
  {
   "cell_type": "markdown",
   "id": "2c61ff4a-a300-4dc6-b153-252e46689abc",
   "metadata": {},
   "source": [
    "### 1.2.4 HÀM <code>addColumn(Matrix)<code>\n",
    "**Hàm bổ sung thêm cột số 1 vào ma trận <code>Matrix</code>**"
   ]
  },
  {
   "cell_type": "code",
   "execution_count": 5,
   "id": "13e4b98f-32e1-4205-8211-59bc52c5179f",
   "metadata": {},
   "outputs": [],
   "source": [
    "def addColumn(Matrix):\n",
    "    # Tạo ma trận mới với số cột lớn hơn 1\n",
    "    newMatrix = [[None]*(len(Matrix[0])+1) for _ in range(len(Matrix))]\n",
    "    # Chép phần tử từ ma trận ban đầu vào ma trận mới\n",
    "    for i in range(len(Matrix)):\n",
    "        newMatrix[i][1:] = Matrix[i][:]\n",
    "    # Chèn cột mới vào ma trận mới\n",
    "    for i in range(len(newMatrix)):\n",
    "        newMatrix[i][0] = 1\n",
    "    return newMatrix"
   ]
  },
  {
   "cell_type": "markdown",
   "id": "8c924619-b7f1-4d8b-9dda-26750b90a566",
   "metadata": {},
   "source": [
    "### 1.2.5 HÀM <code>linearRegressionModel(A, Y)<code>\n",
    "**Hàm tính vector chứa các hệ số của mô hình hồi quy dựa vào <code>ma trận các yếu tố tác động A</code> và <code>ma trận cột Y chứa các giá trị ban đầu</code>**"
   ]
  },
  {
   "cell_type": "code",
   "execution_count": 6,
   "id": "556c98a5-f6c0-4112-91e8-929fb4910ecf",
   "metadata": {},
   "outputs": [],
   "source": [
    "def linearRegressionModel(A, Y):\n",
    "    _A = transpose(A)                   # A^T\n",
    "    T1 = inverse(multiplyMatrix(_A, A)) # (A^T.A)^-1\n",
    "    T2 = multiplyMatrix(_A, Y)          # A^T.Y\n",
    "    y = multiplyMatrix(T1,T2)           # (A^T.A)^-1.A^T.Y\n",
    "    for i in range(len(y)):             # Làm tròn kết quả đến chữ số thập phân thứ 7\n",
    "        y[i][0] = round(y[i][0],7)\n",
    "    return y"
   ]
  },
  {
   "cell_type": "markdown",
   "id": "4ce3cd40-94aa-4992-aeb8-cfbd7f20a7fb",
   "metadata": {},
   "source": [
    "### 1.2.6 HÀM <code>findResidual(A, y, Y)<code>\n",
    "**Hàm tính chuẩn vector phần dư <code>||r||</code>**"
   ]
  },
  {
   "cell_type": "code",
   "execution_count": 7,
   "id": "c6b1113b-4721-425a-a30f-9793dd92961b",
   "metadata": {},
   "outputs": [],
   "source": [
    "def findResidual(A, Y, y):\n",
    "    R = [[None]*(len(Y[0])) for _ in range(len(Y))]\n",
    "    for i in range(len(R)):\n",
    "        tmp = 0\n",
    "        for j in range(len(y)):\n",
    "            tmp += A[i][j]*y[j][0]\n",
    "        R[i][0] = tmp - Y[i][0]      # Tìm các giá trị ri = yi^ - yi\n",
    "    result = 0\n",
    "    for i in range(len(R)):\n",
    "        result += R[i][0]*R[i][0]\n",
    "    return round(result**(1/2),7)    # Làm tròn kết quả đến chữ số thập phân thứ 7"
   ]
  },
  {
   "cell_type": "markdown",
   "id": "c08f3703-e03c-4860-a4e0-c41006ba0ed1",
   "metadata": {},
   "source": [
    "### 1.2.7 HÀM <code>printLinearRegressionModel(y, check)<code>\n",
    "**Hàm in ra mô hình hồi quy tìm được, với <code>check</code> là một số nguyên ($1\\leq check \\leq 4$):**\n",
    "- check = 1: mô hình $y = \\theta_0 + \\theta_1x_1 + \\theta_2x_2 + \\theta_{3}x_{3} $\n",
    "- check = 2: mô hình $\\ln{y} = \\theta_0 + \\theta_1x_1 + \\theta_2x_2 + \\theta_{3}x_{3}$\n",
    "- check = 3: mô hình $\\ln{y} = \\theta_0 + \\theta_1 ln{x_1} + \\theta_2 ln{x_2} + \\theta_3 ln{x_3} + \\theta_4 ln{x_4}$\n",
    "- check = 4: mô hình $y = \\theta_0 + \\theta_1x_1 + \\theta_2x_2^{2} + \\theta_{3}x_{3}^{3}$"
   ]
  },
  {
   "cell_type": "code",
   "execution_count": 8,
   "id": "f3272a38-739a-454d-a07e-425462566c4d",
   "metadata": {},
   "outputs": [],
   "source": [
    "def printLinearRegressionModel(y, check):\n",
    "    if (check == 1 or check == 4):\n",
    "        model = \"y = \" + str(y[0][0])\n",
    "    if (check == 2 or check == 3):\n",
    "        model = \"lny = \" + str(y[0][0])\n",
    "    for i in range(len(y)-1):\n",
    "        if (y[i+1][0] == 0):\n",
    "                model += \"\"\n",
    "        elif (check == 1 or check == 2 or check == 4):\n",
    "            if (y[i+1][0] > 0):\n",
    "                model += \" + \" + str(y[i+1][0]) + \"*\" + str('x' + str(i + 1))\n",
    "            elif (y[i+1][0] < 0):\n",
    "                model += \" - \" + str(abs(y[i+1][0])) + \"*\" + str('x' + str(i + 1))\n",
    "            if (check == 4):\n",
    "                model += '^'+str(i+1)\n",
    "        elif (check == 3):\n",
    "            if (y[i+1][0] > 0):\n",
    "                model += \" + \" + str(y[i+1][0]) + \"*\" + str('lnx' + str(i + 1))\n",
    "            elif (y[i+1][0] < 0):\n",
    "                model += \" - \" + str(abs(y[i+1][0])) + \"*\" + str('lnx' + str(i + 1))\n",
    "    if (check == 2 or check == 3):\n",
    "        model += \"\\nhay\\n\\ty = e^(\" + model.lstrip(\"lny = \") + ')'\n",
    "    return model        "
   ]
  },
  {
   "cell_type": "markdown",
   "id": "5b658f6f-b69f-4066-836c-204182b3d74b",
   "metadata": {},
   "source": [
    "### 1.2.8 HÀM <code>printResult(result, A, y, check)</code>\n",
    "\n",
    "**Hàm in ra các <code>hệ số</code> của mô hình hồi quy tuyến tính, <code>mô hình hồi quy tuyến tính</code> và <code>chuẩn của vector phần dư</code> của mô hình tìm được**"
   ]
  },
  {
   "cell_type": "code",
   "execution_count": 9,
   "id": "9ba8df42-e3ea-4a3d-8ece-d723d0f87022",
   "metadata": {},
   "outputs": [],
   "source": [
    "def printResult(result, A, y, check):\n",
    "    print(\"v* =\", result)\n",
    "    print(\"\\nMô hình hồi thu được là: \\n\\t\", printLinearRegressionModel(result, check))\n",
    "    print(\"\\nChuẩn vector phần dư (residual): ||r1||=\", findResidual(A, y, result))"
   ]
  },
  {
   "cell_type": "markdown",
   "id": "03e82e52-2bf4-4858-86e1-ef24e6f80435",
   "metadata": {},
   "source": [
    "### **2. MÔ HÌNH ĐÁNH GIÁ LƯƠNG NHÂN VIÊN**\n",
    "#### Ta sẽ xét một vài mô hình, sau đó dựa trên chuẩn vector phần dư ||r|| để tìm ra mô hình tối ưu hơn so với những mô hình còn lại"
   ]
  },
  {
   "cell_type": "code",
   "execution_count": 10,
   "id": "8088cc80-0791-4a1b-960d-434dc5e077c4",
   "metadata": {},
   "outputs": [
    {
     "data": {
      "text/html": [
       "<div>\n",
       "<style scoped>\n",
       "    .dataframe tbody tr th:only-of-type {\n",
       "        vertical-align: middle;\n",
       "    }\n",
       "\n",
       "    .dataframe tbody tr th {\n",
       "        vertical-align: top;\n",
       "    }\n",
       "\n",
       "    .dataframe thead th {\n",
       "        text-align: right;\n",
       "    }\n",
       "</style>\n",
       "<table border=\"1\" class=\"dataframe\">\n",
       "  <thead>\n",
       "    <tr style=\"text-align: right;\">\n",
       "      <th></th>\n",
       "      <th>wage</th>\n",
       "      <th>educ</th>\n",
       "      <th>exper</th>\n",
       "      <th>hrswk</th>\n",
       "    </tr>\n",
       "  </thead>\n",
       "  <tbody>\n",
       "    <tr>\n",
       "      <th>0</th>\n",
       "      <td>18.70</td>\n",
       "      <td>16</td>\n",
       "      <td>39</td>\n",
       "      <td>37</td>\n",
       "    </tr>\n",
       "    <tr>\n",
       "      <th>1</th>\n",
       "      <td>11.50</td>\n",
       "      <td>12</td>\n",
       "      <td>16</td>\n",
       "      <td>62</td>\n",
       "    </tr>\n",
       "    <tr>\n",
       "      <th>2</th>\n",
       "      <td>15.04</td>\n",
       "      <td>16</td>\n",
       "      <td>13</td>\n",
       "      <td>40</td>\n",
       "    </tr>\n",
       "    <tr>\n",
       "      <th>3</th>\n",
       "      <td>25.95</td>\n",
       "      <td>14</td>\n",
       "      <td>11</td>\n",
       "      <td>40</td>\n",
       "    </tr>\n",
       "    <tr>\n",
       "      <th>4</th>\n",
       "      <td>24.03</td>\n",
       "      <td>12</td>\n",
       "      <td>51</td>\n",
       "      <td>40</td>\n",
       "    </tr>\n",
       "    <tr>\n",
       "      <th>...</th>\n",
       "      <td>...</td>\n",
       "      <td>...</td>\n",
       "      <td>...</td>\n",
       "      <td>...</td>\n",
       "    </tr>\n",
       "    <tr>\n",
       "      <th>995</th>\n",
       "      <td>16.83</td>\n",
       "      <td>16</td>\n",
       "      <td>27</td>\n",
       "      <td>40</td>\n",
       "    </tr>\n",
       "    <tr>\n",
       "      <th>996</th>\n",
       "      <td>28.85</td>\n",
       "      <td>13</td>\n",
       "      <td>7</td>\n",
       "      <td>40</td>\n",
       "    </tr>\n",
       "    <tr>\n",
       "      <th>997</th>\n",
       "      <td>11.25</td>\n",
       "      <td>14</td>\n",
       "      <td>5</td>\n",
       "      <td>40</td>\n",
       "    </tr>\n",
       "    <tr>\n",
       "      <th>998</th>\n",
       "      <td>7.50</td>\n",
       "      <td>8</td>\n",
       "      <td>36</td>\n",
       "      <td>40</td>\n",
       "    </tr>\n",
       "    <tr>\n",
       "      <th>999</th>\n",
       "      <td>8.50</td>\n",
       "      <td>13</td>\n",
       "      <td>22</td>\n",
       "      <td>40</td>\n",
       "    </tr>\n",
       "  </tbody>\n",
       "</table>\n",
       "<p>1000 rows × 4 columns</p>\n",
       "</div>"
      ],
      "text/plain": [
       "      wage  educ  exper  hrswk\n",
       "0    18.70    16     39     37\n",
       "1    11.50    12     16     62\n",
       "2    15.04    16     13     40\n",
       "3    25.95    14     11     40\n",
       "4    24.03    12     51     40\n",
       "..     ...   ...    ...    ...\n",
       "995  16.83    16     27     40\n",
       "996  28.85    13      7     40\n",
       "997  11.25    14      5     40\n",
       "998   7.50     8     36     40\n",
       "999   8.50    13     22     40\n",
       "\n",
       "[1000 rows x 4 columns]"
      ]
     },
     "execution_count": 10,
     "metadata": {},
     "output_type": "execute_result"
    }
   ],
   "source": [
    "# dùng thư viện pandas cho việc đọc dữ liệu\n",
    "df = pd.read_excel('cps4_small.xlsx')\n",
    "df"
   ]
  },
  {
   "cell_type": "code",
   "execution_count": 11,
   "id": "41f1c86d-3603-4b8d-ad20-3bba193921a6",
   "metadata": {},
   "outputs": [],
   "source": [
    "data = np.array(df) # Sử dụng thư viện numpy chuyển toàn bộ các giá trị trong data sang array\n",
    "a = data[:,-3:]     # Lấy các cột chứa các yếu tố tác động đến lương nhân viên\n",
    "y = data[:,:-3]     # lấy cột lương của các nhân viên"
   ]
  },
  {
   "cell_type": "markdown",
   "id": "d7b67ada-e22f-4be8-b50a-3b69bc2b7f7d",
   "metadata": {},
   "source": [
    "#### **2.1 Sử dụng mô hình tuyến tính $y = \\theta_0 + \\theta_1x_1 + \\theta_2x_2 + \\theta_{3}x_{3} $**"
   ]
  },
  {
   "cell_type": "code",
   "execution_count": 12,
   "id": "ecdc60aa-3e0a-41a0-bd89-202f42700f91",
   "metadata": {},
   "outputs": [
    {
     "name": "stdout",
     "output_type": "stream",
     "text": [
      "v* = [[-16.4432252], [2.0119945], [0.1437088], [0.1373133]]\n",
      "\n",
      "Mô hình hồi thu được là: \n",
      "\t y = -16.4432252 + 2.0119945*x1 + 0.1437088*x2 + 0.1373133*x3\n",
      "\n",
      "Chuẩn vector phần dư (residual): ||r1||= 361.0899821\n"
     ]
    }
   ],
   "source": [
    "A = addColumn(a)                      # Thêm một cột chứa các số 1 vào ma trận a\n",
    "result = linearRegressionModel(A,y)   # Hàm tìm các hệ số hồi quy\n",
    "printResult(result, A, y, check = 1)  # In các kết quả tìm được"
   ]
  },
  {
   "cell_type": "markdown",
   "id": "a22f34a6-e5c5-46fa-aec0-ae5fb61c3c4c",
   "metadata": {},
   "source": [
    "#### **2.2 Sử dụng mô hình log - tuyến tính $\\ln{y} = \\theta_0 + \\theta_1x_1 + \\theta_2x_2 + \\theta_{3}x_{3}$**"
   ]
  },
  {
   "cell_type": "code",
   "execution_count": 13,
   "id": "74bb683d-d97f-43e8-8904-12e33a1e21d9",
   "metadata": {},
   "outputs": [
    {
     "name": "stdout",
     "output_type": "stream",
     "text": [
      "v* = [[1.1005398], [0.0903056], [0.0057759], [0.0089411]]\n",
      "\n",
      "Mô hình hồi thu được là: \n",
      "\t lny = 1.1005398 + 0.0903056*x1 + 0.0057759*x2 + 0.0089411*x3\n",
      "hay\n",
      "\ty = e^(1.1005398 + 0.0903056*x1 + 0.0057759*x2 + 0.0089411*x3)\n",
      "\n",
      "Chuẩn vector phần dư (residual): ||r1||= 16.2111707\n"
     ]
    }
   ],
   "source": [
    "# Tính giá trị ln của các phần tử trong cột lương\n",
    "newY = [[None]*(len(y[0])) for _ in range(len(y))]\n",
    "for i in range(len(y)):\n",
    "    newY[i][0] = math.log(y[i])\n",
    "\n",
    "A = addColumn(a)                          # Bổ sung cột số 1 vào ma trận a  \n",
    "result = linearRegressionModel(A, newY)   # Tìm các hệ số của mô hình hồi quy\n",
    "printResult(result, A, newY, check = 2)   # In các kết quả tìm được"
   ]
  },
  {
   "cell_type": "markdown",
   "id": "3da1bd93-140c-49ee-9b42-11449ea88488",
   "metadata": {},
   "source": [
    "#### **2.3 Sử dụng mô hình đa thức $y = \\theta_0 + \\theta_1x_1 + \\theta_2x_2^{2} + \\theta_{3}x_{3}^{3}$**"
   ]
  },
  {
   "cell_type": "code",
   "execution_count": 14,
   "id": "22045d78-a3db-4cba-be42-e319c502d91a",
   "metadata": {},
   "outputs": [
    {
     "name": "stdout",
     "output_type": "stream",
     "text": [
      "v* = [[-9.45003], [2.0132602], [0.001659], [1.11e-05]]\n",
      "\n",
      "Mô hình hồi thu được là: \n",
      "\t y = -9.45003 + 2.0132602*x1^1 + 0.001659*x2^2 + 1.11e-05*x3^3\n",
      "\n",
      "Chuẩn vector phần dư (residual): ||r1||= 365.9717226\n"
     ]
    }
   ],
   "source": [
    "# Ứng với mỗi cột trong cùng hàng thứ i là x_i với hệ số mũ tương ứng giống như mô hình đã cho ban đầu\n",
    "newA = [[None]*(len(a[0])) for _ in range(len(a))]\n",
    "for i in range(len(newA)):\n",
    "    for j in range(len(newA[0])):\n",
    "        newA[i][j] = a[i][j]**(j+1)\n",
    "\n",
    "A = addColumn(newA)                    # Bổ sung cột số 1 vào ma trận newA\n",
    "result = linearRegressionModel(A, y)   # Tìm các hệ số của mô hình hồi quy\n",
    "printResult(result, A, y, check = 4)   # In các kết quả tìm được"
   ]
  },
  {
   "cell_type": "markdown",
   "id": "bbb7d1d6-8fbe-4e5d-a8d7-804fe727a048",
   "metadata": {},
   "source": [
    "### **Nhận xét:**\n",
    "Ta thấy $||r_3|| > ||r_1|| >> ||r_2|| (365.9717226 > 361.0899821 >> 16.2111707)$ nên mô hình ở **2.2 log - tuyến tính** sẽ tối ưu hơn.\n",
    "\n",
    "Vậy ta lựa chọn **mô hình đánh giá lương nhân viên** là: $$\\ln{y} = 1.1005398 + 0.0903056x_1 + 0.0057759x_2 + 0.0089411x_3$$\n",
    "hay $$y = e^{1.1005398 + 0.0903056x_1 + 0.0057759x_2 + 0.0089411x_3}$$\n",
    "Chuẩn vector phần dư (residual): $||r||= 16.2111707$"
   ]
  },
  {
   "cell_type": "markdown",
   "id": "55e5771a-10ec-4a2f-8cd7-93f49c3bfb01",
   "metadata": {},
   "source": [
    "### **3. MÔ HÌNH ĐÁNH GIÁ GIÁ NHÀ**\n",
    "#### Ta sẽ xét một vài mô hình, sau đó dựa trên chuẩn vector phần dư ||r|| để tìm ra mô hình tối ưu hơn so với những mô hình còn lại"
   ]
  },
  {
   "cell_type": "code",
   "execution_count": 15,
   "id": "37df4144-0097-433f-a05a-cc609c798a48",
   "metadata": {},
   "outputs": [
    {
     "data": {
      "text/html": [
       "<div>\n",
       "<style scoped>\n",
       "    .dataframe tbody tr th:only-of-type {\n",
       "        vertical-align: middle;\n",
       "    }\n",
       "\n",
       "    .dataframe tbody tr th {\n",
       "        vertical-align: top;\n",
       "    }\n",
       "\n",
       "    .dataframe thead th {\n",
       "        text-align: right;\n",
       "    }\n",
       "</style>\n",
       "<table border=\"1\" class=\"dataframe\">\n",
       "  <thead>\n",
       "    <tr style=\"text-align: right;\">\n",
       "      <th></th>\n",
       "      <th>price</th>\n",
       "      <th>sqft</th>\n",
       "      <th>Bedrooms</th>\n",
       "      <th>Baths</th>\n",
       "      <th>Age</th>\n",
       "    </tr>\n",
       "  </thead>\n",
       "  <tbody>\n",
       "    <tr>\n",
       "      <th>0</th>\n",
       "      <td>66500</td>\n",
       "      <td>741</td>\n",
       "      <td>1</td>\n",
       "      <td>1</td>\n",
       "      <td>18</td>\n",
       "    </tr>\n",
       "    <tr>\n",
       "      <th>1</th>\n",
       "      <td>66000</td>\n",
       "      <td>741</td>\n",
       "      <td>1</td>\n",
       "      <td>1</td>\n",
       "      <td>18</td>\n",
       "    </tr>\n",
       "    <tr>\n",
       "      <th>2</th>\n",
       "      <td>68500</td>\n",
       "      <td>790</td>\n",
       "      <td>1</td>\n",
       "      <td>1</td>\n",
       "      <td>18</td>\n",
       "    </tr>\n",
       "    <tr>\n",
       "      <th>3</th>\n",
       "      <td>102000</td>\n",
       "      <td>2783</td>\n",
       "      <td>2</td>\n",
       "      <td>2</td>\n",
       "      <td>18</td>\n",
       "    </tr>\n",
       "    <tr>\n",
       "      <th>4</th>\n",
       "      <td>54000</td>\n",
       "      <td>1165</td>\n",
       "      <td>2</td>\n",
       "      <td>1</td>\n",
       "      <td>35</td>\n",
       "    </tr>\n",
       "    <tr>\n",
       "      <th>...</th>\n",
       "      <td>...</td>\n",
       "      <td>...</td>\n",
       "      <td>...</td>\n",
       "      <td>...</td>\n",
       "      <td>...</td>\n",
       "    </tr>\n",
       "    <tr>\n",
       "      <th>1075</th>\n",
       "      <td>122570</td>\n",
       "      <td>2853</td>\n",
       "      <td>5</td>\n",
       "      <td>3</td>\n",
       "      <td>25</td>\n",
       "    </tr>\n",
       "    <tr>\n",
       "      <th>1076</th>\n",
       "      <td>185000</td>\n",
       "      <td>4599</td>\n",
       "      <td>5</td>\n",
       "      <td>3</td>\n",
       "      <td>13</td>\n",
       "    </tr>\n",
       "    <tr>\n",
       "      <th>1077</th>\n",
       "      <td>1280000</td>\n",
       "      <td>7086</td>\n",
       "      <td>5</td>\n",
       "      <td>3</td>\n",
       "      <td>13</td>\n",
       "    </tr>\n",
       "    <tr>\n",
       "      <th>1078</th>\n",
       "      <td>123808</td>\n",
       "      <td>3148</td>\n",
       "      <td>5</td>\n",
       "      <td>2</td>\n",
       "      <td>25</td>\n",
       "    </tr>\n",
       "    <tr>\n",
       "      <th>1079</th>\n",
       "      <td>374000</td>\n",
       "      <td>6203</td>\n",
       "      <td>7</td>\n",
       "      <td>4</td>\n",
       "      <td>25</td>\n",
       "    </tr>\n",
       "  </tbody>\n",
       "</table>\n",
       "<p>1080 rows × 5 columns</p>\n",
       "</div>"
      ],
      "text/plain": [
       "        price  sqft  Bedrooms  Baths  Age\n",
       "0       66500   741         1      1   18\n",
       "1       66000   741         1      1   18\n",
       "2       68500   790         1      1   18\n",
       "3      102000  2783         2      2   18\n",
       "4       54000  1165         2      1   35\n",
       "...       ...   ...       ...    ...  ...\n",
       "1075   122570  2853         5      3   25\n",
       "1076   185000  4599         5      3   13\n",
       "1077  1280000  7086         5      3   13\n",
       "1078   123808  3148         5      2   25\n",
       "1079   374000  6203         7      4   25\n",
       "\n",
       "[1080 rows x 5 columns]"
      ]
     },
     "execution_count": 15,
     "metadata": {},
     "output_type": "execute_result"
    }
   ],
   "source": [
    "# dùng thư viện pandas cho việc đọc dữ liệu\n",
    "house = pd.read_excel('br2.xlsx')\n",
    "house"
   ]
  },
  {
   "cell_type": "code",
   "execution_count": 16,
   "id": "48d92bf2-1fac-4851-a8fc-523299f619ed",
   "metadata": {},
   "outputs": [],
   "source": [
    "data = np.array(house)   # Sử dụng thư viện numpy chuyển toàn bộ các giá trị trong data sang array\n",
    "m = data[:,-4:]          # Lấy các cột chứa các yếu tố tác động đến giá nhà\n",
    "b = data[:,:-4]          # lấy cột giá nhà"
   ]
  },
  {
   "cell_type": "markdown",
   "id": "5e663529-eb15-4584-8661-f767c11bde1d",
   "metadata": {},
   "source": [
    "#### **3.1 Sử dụng mô hình tuyến tính $y = \\theta_0 + \\theta_1x_1 + \\theta_2x_2 + ... + \\theta_{n}x_{n}$**"
   ]
  },
  {
   "cell_type": "code",
   "execution_count": 17,
   "id": "1bf6563e-35c4-4bce-9194-553b09843da0",
   "metadata": {},
   "outputs": [
    {
     "name": "stdout",
     "output_type": "stream",
     "text": [
      "v* = [[-26733.1238772], [87.5006884], [-29192.6536254], [41420.7677794], [-553.4032903]]\n",
      "\n",
      "Mô hình hồi thu được là: \n",
      "\t y = -26733.1238772 + 87.5006884*x1 - 29192.6536254*x2 + 41420.7677794*x3 - 553.4032903*x4\n",
      "\n",
      "Chuẩn vector phần dư (residual): ||r1||= 2493863.7509459\n"
     ]
    }
   ],
   "source": [
    "M = addColumn(m)                       # Thêm một cột chứa các số 1 vào ma trận m\n",
    "result = linearRegressionModel(M, b)   # Tìm các hệ số của mô hình hồi quy\n",
    "printResult(result, M, b, check = 1)   # In các kết quả tìm được"
   ]
  },
  {
   "cell_type": "markdown",
   "id": "63cfede1-6184-49ac-8d67-35cd03b905ea",
   "metadata": {},
   "source": [
    "#### **3.2 Sử dụng mô hình log - log $\\ln{y} = \\theta_0 + \\theta_1 ln{x_1} + \\theta_2 ln{x_2} + \\theta_3 ln{x_3} + \\theta_4 ln{x_4}$**"
   ]
  },
  {
   "cell_type": "code",
   "execution_count": 18,
   "id": "2c29fc55-7917-41e9-843a-7fef65d951ad",
   "metadata": {},
   "outputs": [
    {
     "name": "stdout",
     "output_type": "stream",
     "text": [
      "v* = [[5.4879381], [0.8514173], [-0.2802541], [0.3992267], [-0.0669347]]\n",
      "\n",
      "Mô hình hồi thu được là: \n",
      "\t lny = 5.4879381 + 0.8514173*lnx1 - 0.2802541*lnx2 + 0.3992267*lnx3 - 0.0669347*lnx4\n",
      "hay\n",
      "\ty = e^(5.4879381 + 0.8514173*lnx1 - 0.2802541*lnx2 + 0.3992267*lnx3 - 0.0669347*lnx4)\n",
      "\n",
      "Chuẩn vector phần dư (residual): ||r1||= 9.683687\n"
     ]
    }
   ],
   "source": [
    "# Tính giá trị ln của các phần tử trong ma trận cột giá nhà b\n",
    "newB = [[None]*(len(b[0])) for _ in range(len(b))]\n",
    "for i in range(len(b)):\n",
    "    newB[i][0] = math.log(b[i])\n",
    "\n",
    "# Tính giá trị ln của các phần tử của các cột tính chất trong ma trận m\n",
    "newm = [[None]*(len(m[0])) for _ in range(len(m))]\n",
    "for i in range(len(m)):\n",
    "    for j in range(len(m[0])):\n",
    "        newm[i][j] = math.log(m[i][j])\n",
    "        \n",
    "M = addColumn(newm)                       # Bổ sung cột số 1 vào ma trận newm\n",
    "result = linearRegressionModel(M, newB)   # Tìm các hệ số của mô hình hồi quy\n",
    "printResult(result, M, newB, check = 3)   # In các kết quả tìm được"
   ]
  },
  {
   "cell_type": "markdown",
   "id": "969ccd3b-0cd9-4b83-90fd-411aad78d856",
   "metadata": {},
   "source": [
    "#### **3.3 Sử dụng mô hình log - tuyến tính $\\ln{y} = \\theta_0 + \\theta_1x_1 + \\theta_2x_2 + \\theta_{3}x_{3} + \\theta_{4}x_{4}$**"
   ]
  },
  {
   "cell_type": "code",
   "execution_count": 19,
   "id": "5cdfe420-1cb2-496f-b816-1122664ff80f",
   "metadata": {},
   "outputs": [
    {
     "name": "stdout",
     "output_type": "stream",
     "text": [
      "v* = [[10.9189639], [0.0003308], [-0.0589539], [0.2145707], [-0.0066016]]\n",
      "\n",
      "Mô hình hồi thu được là: \n",
      "\t lny = 10.9189639 + 0.0003308*x1 - 0.0589539*x2 + 0.2145707*x3 - 0.0066016*x4\n",
      "hay\n",
      "\ty = e^(10.9189639 + 0.0003308*x1 - 0.0589539*x2 + 0.2145707*x3 - 0.0066016*x4)\n",
      "\n",
      "Chuẩn vector phần dư (residual): ||r1||= 9.1239914\n"
     ]
    }
   ],
   "source": [
    "# Tính giá trị ln của các phần tử trong ma trận cột giá nhà b\n",
    "newB = [[None]*(len(b[0])) for _ in range(len(b))]\n",
    "for i in range(len(b)):\n",
    "    newB[i][0] = math.log(b[i])\n",
    "\n",
    "M = addColumn(m)                          # Bổ sung cột số 1 vào ma trận a\n",
    "result = linearRegressionModel(M, newB)   # Tìm các hệ số của mô hình hồi quy\n",
    "printResult(result, M, newB, check = 2)   # In các kết quả tìm được"
   ]
  },
  {
   "cell_type": "markdown",
   "id": "018527c6-66ca-4533-8366-0b176e458974",
   "metadata": {},
   "source": [
    "### **Nhận xét:**\n",
    "Ta thấy $||r_1|| >> ||r_2|| > ||r_3||  (2493863.7509459 >> 9.683687 > 9.1239914)$ nên mô hình ở **3.2 log - tuyến tính** sẽ tối ưu hơn.\n",
    "\n",
    "Vậy ta lựa chọn **mô hình đánh giá giá nhà** là: $$ \\ln{y} = 10.9189639 + 0.0003308x_1 - 0.0589539x_2 + 0.2145707x_3 - 0.0066016x_4$$\n",
    "hay $$y = e^{10.9189639 + 0.0003308x_1 - 0.0589539x_2 + 0.2145707x_3 - 0.0066016x_4}$$\n",
    "Chuẩn vector phần dư (residual): $||r||= 9.1239914$"
   ]
  }
 ],
 "metadata": {
  "kernelspec": {
   "display_name": "Python 3 (ipykernel)",
   "language": "python",
   "name": "python3"
  },
  "language_info": {
   "codemirror_mode": {
    "name": "ipython",
    "version": 3
   },
   "file_extension": ".py",
   "mimetype": "text/x-python",
   "name": "python",
   "nbconvert_exporter": "python",
   "pygments_lexer": "ipython3",
   "version": "3.10.9"
  }
 },
 "nbformat": 4,
 "nbformat_minor": 5
}
